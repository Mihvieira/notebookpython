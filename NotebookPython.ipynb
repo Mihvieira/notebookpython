{
 "cells": [
  {
   "cell_type": "markdown",
   "metadata": {},
   "source": [
    "#### <font color = green> **Faça um programa que leia a nota dos 4 bimestres do aluno e retorne a média** </font>\n",
    "A média é obtida através da soma de todos os elementos dividido pela quantidade de elementos\n",
    "soma dos elementos / quantidade de elementos"
   ]
  },
  {
   "cell_type": "code",
   "execution_count": null,
   "metadata": {},
   "outputs": [],
   "source": [
    "\n",
    "x = int(input(\"Digite a nota do 1º bimestre: \"))\n",
    "y = int(input(\"Digite a nota do 2º bimestre: \"))\n",
    "z = int(input(\"Digite a nota do 3º bimestre: \"))\n",
    "w = int(input(\"Digite a nota do 4º bimestre\"))\n",
    "\n",
    "media = (x+y+z+w)/4\n",
    "print(\"A média do aluno é: \", media)"
   ]
  },
  {
   "cell_type": "markdown",
   "metadata": {},
   "source": [
    "Aqui o usuário apenas pode inserir uma varíavel do tipo int (número inteiro) o que não é funcional para notas, eis que elas podem conter casas decimais, por isso o mais adequado é o tipo float"
   ]
  },
  {
   "cell_type": "code",
   "execution_count": null,
   "metadata": {},
   "outputs": [],
   "source": [
    "x = float(input(\"Digite a nota do 1º bimestre: \"))\n",
    "y = float(input(\"Digite a nota do 2º bimestre: \"))\n",
    "z = float(input(\"Digite a nota do 3º bimestre: \"))\n",
    "w = float(input(\"Digite a nota do 4º bimestre\"))\n",
    "\n",
    "media = (x+y+z+w)/4\n",
    "print(\"A média do aluno é: \", media)"
   ]
  },
  {
   "cell_type": "markdown",
   "metadata": {},
   "source": [
    "Média com função e com iteração (range, for, statistics, list)"
   ]
  },
  {
   "cell_type": "code",
   "execution_count": null,
   "metadata": {},
   "outputs": [],
   "source": [
    "import statistics\n",
    "notas = []\n",
    "for i in range(4):\n",
    "    n = float(input(\"Digite a nota: \"))\n",
    "    notas.append(n)\n",
    "media = statistics.mean(notas)\n",
    "print(\"A média do aluno é: \", media)"
   ]
  },
  {
   "cell_type": "markdown",
   "metadata": {},
   "source": [
    "<font color = yellow> Lembrando </font> que o padrão utilizado para separação de casas decimais é o ponto (.) e não a vírgula (,), pois este é o padrão dos Estados Unidos. \n",
    "Mudando código para o padrão Brasil e não permitir entradas maiores que 10 "
   ]
  },
  {
   "cell_type": "code",
   "execution_count": null,
   "metadata": {},
   "outputs": [],
   "source": [
    "# usando replace\n",
    "import statistics\n",
    "notas = []\n",
    "for i in range(4):\n",
    "    # strip - remover os espaços\n",
    "    # replace - caso o usuário insira a nota do padrão brasil\n",
    "    n = input(\"Digite a nota: \").strip().replace(',', '.')\n",
    "    # para usar a função mean é preciso converter a string\n",
    "    n = float(n)\n",
    "    notas.append(n)\n",
    "media = statistics.mean(notas)\n",
    "# convertendo o valor final para o padrão Brasil\n",
    "m = str(media).replace('.', ',')\n",
    "print(\"A média do aluno é: \", m)"
   ]
  },
  {
   "cell_type": "markdown",
   "metadata": {},
   "source": [
    "Existe a formatação de números usando locale também, mas isso fica para um outro momento"
   ]
  },
  {
   "cell_type": "markdown",
   "metadata": {},
   "source": [
    "#### <font color = green> **Crie um algoritmo que leia um número e mostre seu dobro, triplo e raiz quadrada**</font>\n",
    "Lembrando que a raiz quadrada pode ser representada pela elavação do número à potência de 1/2"
   ]
  },
  {
   "cell_type": "code",
   "execution_count": null,
   "metadata": {},
   "outputs": [],
   "source": [
    "n = int(input('insira um numero: '))\n",
    "print(f'o numero digitado e {n}, o seu dobro e {n*2}, seu triplo e {n*3}, sua raiz quadrada {n**(1/2)} ')"
   ]
  },
  {
   "cell_type": "markdown",
   "metadata": {},
   "source": [
    "A raiz quadrada também pode ser obtida usando o import math e usando o math.sqrt()"
   ]
  },
  {
   "cell_type": "code",
   "execution_count": null,
   "metadata": {},
   "outputs": [],
   "source": [
    "import math\n",
    "n = int(input('insira um numero: '))\n",
    "print(f'o numero digitado e {n}, o seu dobro e {n*2}, seu triplo e {n*3}, sua raiz quadrada {math.sqrt(n):.2f} ')"
   ]
  },
  {
   "cell_type": "markdown",
   "metadata": {},
   "source": [
    "Obs. limitação de decimais logo após o número a ser formatado auxilia na melhor visualização do usuário.\n",
    "\n",
    ":.2f = tudo aquilo que vem antes e 2 casas decimais depois do ponto"
   ]
  },
  {
   "cell_type": "markdown",
   "metadata": {},
   "source": [
    "#### <font color = green> **Faça um programa que leia o cateto oposto e do cateto adjacente de um trangulo retangulo, calcule e mostre o compromento da hipotenusa** </font>\n",
    "Lembrando que o cálculo da hipotenusa é feito através da raiz quadrada da soma dos catetos ao quadrado.\n",
    "\n",
    "É necessário a colocação de parênteses para assegurar a ordem de precedência do cálculo, caso contrário o resultado sairá errado"
   ]
  },
  {
   "cell_type": "code",
   "execution_count": null,
   "metadata": {},
   "outputs": [],
   "source": [
    "c1 = float(input('Digite o Cateto Oposto: '))\n",
    "c2 = float(input('Digite o cateto adjacente: '))\n",
    "h = ((c1**2) + (c2**2))**(1/2)\n",
    "\n",
    "print(f' O cateto oposto é {c1}, o cateto adjacente é {c2}, a hipotenusa é {h}')"
   ]
  },
  {
   "cell_type": "code",
   "execution_count": null,
   "metadata": {},
   "outputs": [],
   "source": [
    "# Importando math:\n",
    "import math\n",
    "c1 = float(input('Digite o Cateto Oposto: '))\n",
    "c2 = float(input('Digite o cateto adjacente: '))\n",
    "h = math.hypot(c1, c2)\n",
    "\n",
    "print(f' O cateto oposto é {c1}, o cateto adjacente é {c2}, a hipotenusa é {h:.2f}')"
   ]
  },
  {
   "cell_type": "markdown",
   "metadata": {},
   "source": [
    "####  <font color = green> **Faça um programa que leia um angulo qualquer e mostre na tela o seno cosseno e tangente desse angulo**</font>\n",
    "Lembrando que seno = cateto oposto / hipotenusa; cosseno = cateto adjacente / hipotenusa; tangente = cateto oposto / cateto adjacente"
   ]
  },
  {
   "cell_type": "code",
   "execution_count": null,
   "metadata": {},
   "outputs": [],
   "source": [
    "c1 = float(input('Digite o Cateto Oposto: '))\n",
    "c2 = float(input('Digite o cateto adjacente: '))\n",
    "h = ((c1**2) + (c2**2))**(1/2)\n",
    "s = c1/h\n",
    "co = c2/h\n",
    "t = c1/c2\n",
    "\n",
    "print(f' O cateto oposto é {c1}, o cateto adjacente é {c2}, a hipotenusa é {h}')\n",
    "print(f'O seno é {s:.2f}, o cosseno é {co:.2f} e a tangente é {t:.2f}')"
   ]
  },
  {
   "cell_type": "code",
   "execution_count": null,
   "metadata": {},
   "outputs": [],
   "source": [
    "import math\n",
    "an = float(input('Digite o número que você deseja'))\n",
    "seno = math.sin(math.radians(an))\n",
    "cos = math.cos(math.radians(an))\n",
    "t = math.tan(math.radians(an))\n",
    "print(f'seno {seno}, cosseno {cos} tangente {t}')"
   ]
  },
  {
   "cell_type": "markdown",
   "metadata": {},
   "source": [
    "#### <font color = green> **Crie um programa que leia um número real qualquer pelo teclado e mostre na tela a sua porção inteira**</font>"
   ]
  },
  {
   "cell_type": "code",
   "execution_count": null,
   "metadata": {},
   "outputs": [],
   "source": [
    "n = float(input('Insira um número: '))\n",
    "print (f'O valor digitado foi {n} e a sua porção inteira é {math.trunc(n)}')"
   ]
  },
  {
   "cell_type": "code",
   "execution_count": null,
   "metadata": {},
   "outputs": [],
   "source": [
    "from math import trunc\n",
    "n = float(input('Insira um número: '))\n",
    "print (f'O valor digitado foi {n} e a sua porção inteira é {trunc(n)}')"
   ]
  },
  {
   "cell_type": "code",
   "execution_count": null,
   "metadata": {},
   "outputs": [],
   "source": [
    "# sem importar módulos:\n",
    "n = float(input('Insira um número: '))\n",
    "print (f'O valor digitado foi {n} e a sua porção inteira é {int(n)}')"
   ]
  },
  {
   "cell_type": "markdown",
   "metadata": {},
   "source": [
    "#### <font color = green> **Utilizando range**</font>"
   ]
  },
  {
   "cell_type": "code",
   "execution_count": 1,
   "metadata": {},
   "outputs": [
    {
     "name": "stdout",
     "output_type": "stream",
     "text": [
      "5\n",
      "15\n",
      "25\n",
      "35\n",
      "45\n",
      "55\n",
      "65\n",
      "75\n",
      "85\n",
      "95\n"
     ]
    }
   ],
   "source": [
    "for x in range (5,101,10):\n",
    "    print(x)"
   ]
  },
  {
   "cell_type": "markdown",
   "metadata": {},
   "source": [
    "#### <font color = green> **um professor quer sortear um dos seus 4 alunos para apagar o quadro faça um programa que ajude ele lendo o nome deles e escrevendo o nome do escolhido**</font>"
   ]
  },
  {
   "cell_type": "code",
   "execution_count": null,
   "metadata": {},
   "outputs": [],
   "source": [
    "#sorteio\n",
    "\n",
    "import random\n",
    "n1 = str(input('Primeiro Aluno: '))\n",
    "n2 = str(input('Segundo Aluno: '))\n",
    "n3 = str(input('Terceito Aluno: '))\n",
    "n4 = str(input('Quarto Aluno: '))\n",
    "lista = [n1, n2, n3, n4]\n",
    "escolhido = random.choice(lista)\n",
    "print(f'{escolhido}')\n",
    "\n",
    "print(f'{list}')"
   ]
  },
  {
   "cell_type": "code",
   "execution_count": null,
   "metadata": {},
   "outputs": [],
   "source": [
    "# embaralhando a ordem\n",
    "import random\n",
    "n1 = str(input('Primeiro Aluno: '))\n",
    "n2 = str(input('Segundo Aluno: '))\n",
    "n3 = str(input('Terceito Aluno: '))\n",
    "n4 = str(input('Quarto Aluno: '))\n",
    "lista = [n1, n2, n3, n4]\n",
    "escolhido = random.shuffle(lista)\n",
    "print(lista)"
   ]
  },
  {
   "cell_type": "markdown",
   "metadata": {},
   "source": [
    "#### <font color = green> **Jogo da Advinhação** </font>"
   ]
  },
  {
   "cell_type": "code",
   "execution_count": null,
   "metadata": {},
   "outputs": [],
   "source": [
    "# Randint - para gerar um número aleatório inteiro\n",
    "\n",
    "from random import randint\n",
    "print('Olá! O computador escolherá um número de 0 a 5')\n",
    "n = randint(0,5)\n",
    "\n",
    "sorte = int(input('Pronto! Agora adivinhe o número escolhido: '))\n",
    "if sorte == n:\n",
    "    print(f'O número escolhido pelo computador foi {n}. Você acertou!')\n",
    "else:\n",
    "    print(f'Errou! o número escolhido pelo computador foi {n}')"
   ]
  },
  {
   "cell_type": "code",
   "execution_count": null,
   "metadata": {},
   "outputs": [],
   "source": [
    "# Gerando números aletórios com mais casas\n",
    "import math\n",
    "import random\n",
    "n = math.ceil(100000*random.random())\n",
    "print(n)"
   ]
  },
  {
   "cell_type": "markdown",
   "metadata": {},
   "source": [
    "#### <font color = green> **Faça um programa que leia uma letra e diga se é vogal ou consoante** </font>"
   ]
  },
  {
   "cell_type": "code",
   "execution_count": null,
   "metadata": {},
   "outputs": [],
   "source": [
    "print(\"Vogal ou Consoante?\")\n",
    "vogal_consoante = input(\"Digite uma letra: \").upper()\n",
    "\n",
    "if (vogal_consoante.isalpha()):\n",
    "    if (vogal_consoante == 'a' or vogal_consoante == 'e' or vogal_consoante == 'i' or vogal_consoante == 'o' or vogal_consoante == 'u'):\n",
    "        print(\"Vogal\")\n",
    "    else:\n",
    "        print(\"Consoante\")\n",
    "elif (vogal_consoante.isnumeric()):\n",
    "    print(\"Você digitiu um numero\")"
   ]
  },
  {
   "cell_type": "markdown",
   "metadata": {},
   "source": [
    "obs .isnumeric() verifica se o caractere da string é um número ou não.\n",
    "\n",
    ".isalpha verifica se o caractere é uma letra do alfabeto\n",
    "\n",
    "O upper foi utilizado para o programa transformar as letras digitadas em maiúsculas e evitar erros, caso o usuário insira letras minúsculas."
   ]
  },
  {
   "cell_type": "markdown",
   "metadata": {},
   "source": [
    "### <font color = green> **Faça um Programa que leia três números e mostre o maior e o menor deles** </font>"
   ]
  },
  {
   "cell_type": "code",
   "execution_count": null,
   "metadata": {},
   "outputs": [],
   "source": [
    "#Prevendo vários tipos de resultados:\n",
    "\n",
    "x = int(input(\"Digite um número: \"))\n",
    "y = int(input(\"Digite um número: \"))\n",
    "z = int(input(\"Digite um número: \"))\n",
    "\n",
    "if x>y and x>z and y>z:\n",
    "    print(\"O número maior é: \", x),\n",
    "    print (\"O número menor é: \", z)\n",
    "elif x>y and x>z and y<z:\n",
    "    print(\"O número maior é: \", x),\n",
    "    print (\"O número menor é: \", y)\n",
    "elif y>x and y>z and x>z:\n",
    "    print(\"O número maior é: \", y),\n",
    "    print (\"O número menor é: \", z)\n",
    "elif y>x and y>z and z>x:\n",
    "    print(\"O número maior é: \", y),\n",
    "    print (\"O número menor é: \", x)\n",
    "elif z>x and z>y and x>y:\n",
    "    print(\"O número maior é: \", z),\n",
    "    print (\"O número menor é: \", y)\n",
    "elif z>x and z>y and y>x:\n",
    "    print(\"O número maior é: \", z),\n",
    "    print (\"O número menor é: \", x)"
   ]
  },
  {
   "cell_type": "markdown",
   "metadata": {},
   "source": [
    "Simplificando a versão anterior utilizando os números inseridos como uma lista e retornando o número max e min:"
   ]
  },
  {
   "cell_type": "code",
   "execution_count": null,
   "metadata": {},
   "outputs": [],
   "source": [
    "n1 = int(input('Informe o primeiro numero: '))\n",
    "n2 = int(input('Informe o segundo numero: '))\n",
    "n3 = int(input('Informe o terceiro numero: '))\n",
    "\n",
    "lista = [n1, n2, n3]\n",
    "\n",
    "print(f'O maior numero digitado foi: {max(lista)} ')\n",
    "print(f'O menor numero digitado foi: {min(lista)} ')"
   ]
  },
  {
   "cell_type": "markdown",
   "metadata": {},
   "source": [
    "#### <font color = green> **Faça um programa que leia um número e retorne a tabuada deste número**</font>"
   ]
  },
  {
   "cell_type": "code",
   "execution_count": null,
   "metadata": {},
   "outputs": [],
   "source": [
    "n = int(input('insira um número: '))\n",
    "m = 0\n",
    "\n",
    "while m<=10:\n",
    "    print(f'{n} x {m} = {n*m}')\n",
    "    m+=1"
   ]
  },
  {
   "cell_type": "markdown",
   "metadata": {},
   "source": [
    "#### <font color = green> **Programa que receba um número inteiro e diga o mês equivalente com a primeira letra maiúscula**</font>"
   ]
  },
  {
   "cell_type": "code",
   "execution_count": null,
   "metadata": {},
   "outputs": [],
   "source": [
    "month = int(input())\n",
    "\n",
    "months_dict = {1:'january', 2: 'february', 3: 'march', 4: 'april', 5: 'may', 6: 'june', 7: 'july', 8: 'august', 9: 'september', 10: 'october', 11: 'november', 12: 'december'}\n",
    "\n",
    "if month <= 12:\n",
    "    print(months_dict[month].title())"
   ]
  },
  {
   "cell_type": "markdown",
   "metadata": {},
   "source": [
    "#### <font color = green> **crie um programa que leia o nome completo de uma pessoa e mostre:**</font>\n",
    "* o nome com todas as letras mauisculas, o nome com todas as letras minusculas, \n",
    "* quantas letras ao todo (sem considerar espaços), quantas letras tem o primeiro nome"
   ]
  },
  {
   "cell_type": "code",
   "execution_count": null,
   "metadata": {},
   "outputs": [],
   "source": [
    "n = str(input('Digite seu nome completo: '))\n",
    "n1 = n.strip(' ')\n",
    "n2 = n.split()\n",
    "\n",
    "print(n.upper())\n",
    "print(n.lower())\n",
    "\n",
    "print(len(n1))\n",
    "\n",
    "print(len(n2[0]))"
   ]
  },
  {
   "cell_type": "markdown",
   "metadata": {},
   "source": [
    "#### <font color = green> **crie um programa que leia o nome de uma pessoa e diga se ela tem 'silva' no nome**</font>"
   ]
  },
  {
   "cell_type": "code",
   "execution_count": null,
   "metadata": {},
   "outputs": [],
   "source": [
    "nome = str(input('Digite seu nome Completo: ')).lower().strip()\n",
    "print('silva' in nome)"
   ]
  },
  {
   "cell_type": "markdown",
   "metadata": {},
   "source": [
    "#### <font color = green> **Faça um programa que leia uma frase pelo teclado e mostre: quantas vezes aparece a letra 'a', em que posição ela aparece a primeira vez e  em que posição ela aparece a última vez**</font>"
   ]
  },
  {
   "cell_type": "code",
   "execution_count": null,
   "metadata": {},
   "outputs": [],
   "source": [
    "n = str(input('Digite um nome: ')).strip().lower()\n",
    "print(n.count('a'))\n",
    "print(n.find('a')+1)\n",
    "print(n.rfind('a')+1)"
   ]
  },
  {
   "cell_type": "markdown",
   "metadata": {},
   "source": [
    "#### <font color = green> **Faça um programa que leia o nome completo de uma pessoa, mostrando em seguida o primeiro e o último nome separadamente.**</font>"
   ]
  },
  {
   "cell_type": "code",
   "execution_count": null,
   "metadata": {},
   "outputs": [],
   "source": [
    "n = str(input('Digite seu nome comlpeto: ')).title().split()\n",
    "print(n[0])\n",
    "print(n[-1])"
   ]
  },
  {
   "cell_type": "markdown",
   "metadata": {},
   "source": [
    "#### <font color = green> **Programa que diga se o número é par ou ímpar**</font>"
   ]
  },
  {
   "cell_type": "code",
   "execution_count": null,
   "metadata": {},
   "outputs": [],
   "source": [
    "n = int(input('digite um número: '))\n",
    "\n",
    "if n%2 == 0:\n",
    "    print('o número é par')\n",
    "else:\n",
    "    print('o número não é par')"
   ]
  },
  {
   "cell_type": "markdown",
   "metadata": {},
   "source": [
    "#### <font color = green> **Programa que calcule o preço da passagem considerando a distância** </font>"
   ]
  },
  {
   "cell_type": "code",
   "execution_count": null,
   "metadata": {},
   "outputs": [],
   "source": [
    "distancia = float(input('Digite a distância da viagem em Km: '))\n",
    "if distancia <= 200:\n",
    "    valor = distancia * 0.5\n",
    "    print(f'O preço da passagem é de {valor}')\n",
    "else:\n",
    "    valor = distancia * 0.45\n",
    "    print(f'O preço da passagem é {valor}')"
   ]
  },
  {
   "cell_type": "markdown",
   "metadata": {},
   "source": [
    "#### <font color = green> **Faça um programa que mostre na tela uma CONTAGEM REGRESSIVA para o estouro de fogos de artifício, indo de 10 até 0, com uma pausa de 1 segundo entre eles** </font>"
   ]
  },
  {
   "cell_type": "code",
   "execution_count": null,
   "metadata": {},
   "outputs": [],
   "source": [
    "import time\n",
    "for c in range(10, -1, -1):\n",
    "    print (f'contagem regressiva {c}')\n",
    "    time.sleep(1)\n",
    "print ('estouro de fogos')"
   ]
  },
  {
   "cell_type": "markdown",
   "metadata": {},
   "source": [
    "#### <font color = green> **Crie um programa que mostre na tela todos os números pares que estão no intervalo entre 1 a 50** </font>"
   ]
  },
  {
   "cell_type": "code",
   "execution_count": null,
   "metadata": {},
   "outputs": [],
   "source": [
    "for n in range(1,51):\n",
    "    if n%2 == 0:\n",
    "        print(n)\n",
    "\n",
    "for n in range(2,51,2):\n",
    "    print(n,end='')"
   ]
  },
  {
   "cell_type": "markdown",
   "metadata": {},
   "source": [
    "#### <font color = green> **Faça um programa que calcule a soma entre todos os números impares que são múltiplos de 3 e que se encontram no intervalo de 1 até 500** </font>"
   ]
  },
  {
   "cell_type": "code",
   "execution_count": null,
   "metadata": {},
   "outputs": [],
   "source": [
    "soma = 0\n",
    "count = 0\n",
    "for c in range(1,501,2):\n",
    "    if c%3 == 0:\n",
    "        soma = soma + c\n",
    "        count = count +1\n",
    "print(f'{soma} e {count}')"
   ]
  },
  {
   "cell_type": "markdown",
   "metadata": {},
   "source": [
    "#### <font color = green> **Desenvolva um programa que leia 6 números inteiros e mostre a soma apenas daqueles que forem pares. Se o valor digitado for ímpar, desconsidere-o** </font>"
   ]
  },
  {
   "cell_type": "code",
   "execution_count": null,
   "metadata": {},
   "outputs": [],
   "source": [
    "soma = 0\n",
    "cont=0\n",
    "for c in range(1,7):\n",
    "    num = int(input(f'Digite o {c} valor: '))\n",
    "    if num%2 == 0:\n",
    "        soma = soma + num\n",
    "        cont = cont + 1\n",
    "print (f'você informou {cont} e a soma foi {soma}')"
   ]
  },
  {
   "cell_type": "markdown",
   "metadata": {},
   "source": [
    "#### <font color = green> **Trabalhando com strings**</font>"
   ]
  },
  {
   "cell_type": "code",
   "execution_count": null,
   "metadata": {},
   "outputs": [],
   "source": [
    "frase = 'Curso em Vídeo Python'\n",
    "#fatiamento- conseguir pegar pedaços dela\n",
    "# simbolo de conceito é ligado a listas\n",
    "# o último valor não entra na contagem\n",
    "# necessária a função print em todos para que apareça o resultado na tela\n",
    "print(frase[9:14])\n",
    "\n",
    "# pulando de 2 em dois\n",
    "print(frase[9:21:2])\n",
    "# antes dos 2 pontos é onde ele vai começar (começa do caractere 0) e vai até a letra 5(4)\n",
    "print(frase[:5])\n",
    "# indico o início e não o final\n",
    "print(frase[15:])\n",
    "#começa no nove, não tem stop (vai até o final da string) e pula 3 caracteres\n",
    "print(frase[9::3])\n",
    "\n",
    "#análise da string\n",
    "#comprimento\n",
    "print(len(frase))\n",
    "# contagem\n",
    "print(frase.count('o'))\n",
    "#contagem com fatiamento - entre o caractere 0 e o 13\n",
    "print(frase.count('o', 0, 13))\n",
    "# find - encontrar - indica em que posição a string desejada começa\n",
    "print(frase.find('deo'))\n",
    "# quando não existe na string - ele retorna o valor menos 1 (-1)\n",
    "print(frase.find('android'))\n",
    "print('Curso' in frase)\n",
    "# lista é imutável em regra, mas vc consegue alterar os elementos através de métodos\n",
    "print(frase.replace('Python', 'Android'))\n",
    "# método upper\n",
    "print(frase.upper())\n",
    "# método lower\n",
    "print(frase.lower())\n",
    "# capitalize - todos os caracteres para minusculo e só o primeiro caractere será mauiscula\n",
    "print(frase.capitalize())\n",
    "# title- analisa quantas palavras tem e faz o captalize palavra por palavra\n",
    "print(frase.title())\n",
    "\n",
    "frase_1 = '  Aprenda Python  '\n",
    "# strip - remove todos os espaços INÚTEIS\n",
    "print(frase_1.strip())\n",
    "# rstrip (right) - tratamento pela direita\n",
    "print(frase_1.rstrip())\n",
    "# lstrip (left) - tratamento pela esquerda\n",
    "print(frase_1.lstrip())\n",
    "\n",
    "#divisão\n",
    "# split - divide considerando os espaços, cada palavra recebe uma indexação nova\n",
    "print(frase.split())\n",
    "# junção - juntar todos os elementos\n",
    "print('-'.join(frase)) \n",
    "# in é operador"
   ]
  },
  {
   "cell_type": "code",
   "execution_count": null,
   "metadata": {},
   "outputs": [],
   "source": [
    "num = [2,5,6,1]\n",
    "num[2] = 3\n",
    "#para adicionar valores em uma lista\n",
    "num.append(7)\n",
    "#colocando em ordem decrescente\n",
    "num.sort(reverse = True)\n",
    "#inserir valor na posição 2 inserir 0\n",
    "num.insert(2,0)\n",
    "#removendo valores - sem nada ele remove o primeiro valor - com um número ele remove a posição\n",
    "num.pop(2)\n",
    "# remove elimina o primeiro elemento indicado - se quiser remover todos os valores tem que fazer um laço\n",
    "num.remove(2)\n",
    "# para uma lista receber todos os itens de outra b = a[:]\n",
    "print(num)\n",
    "\n",
    "valores = []\n",
    "valores.append(5)\n",
    "valores.append(4)\n",
    "valores.append(9)\n",
    "\n",
    "for c, v in enumerate(valores):\n",
    "    print(f'{c} encontrei {v}')\n",
    "for cont in range(0,5):\n",
    "    valores.append(int(input('digite um valor: ')))"
   ]
  },
  {
   "cell_type": "markdown",
   "metadata": {},
   "source": [
    "#### <font color = green> **Calculando data de nascimento**</font>"
   ]
  },
  {
   "cell_type": "code",
   "execution_count": null,
   "metadata": {},
   "outputs": [],
   "source": [
    "from datetime import datetime\n",
    "data_nascimento = datetime.strptime(input('Digite a sua data de nascimento (formato dd/mm/AAAA): '), \"%d/%m/%Y\")\n",
    "idade = (datetime.now() - data_nascimento).days//365"
   ]
  }
 ],
 "metadata": {
  "kernelspec": {
   "display_name": "Python 3",
   "language": "python",
   "name": "python3"
  },
  "language_info": {
   "codemirror_mode": {
    "name": "ipython",
    "version": 3
   },
   "file_extension": ".py",
   "mimetype": "text/x-python",
   "name": "python",
   "nbconvert_exporter": "python",
   "pygments_lexer": "ipython3",
   "version": "3.11.6"
  }
 },
 "nbformat": 4,
 "nbformat_minor": 2
}
