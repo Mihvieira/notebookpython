{
 "cells": [
  {
   "cell_type": "markdown",
   "metadata": {},
   "source": [
    "#### <font color = green> **Faça um programa que leia a nota dos 4 bimestres do aluno e retorne a média** </font>\n",
    "A média é obtida através da soma de todos os elementos dividido pela quantidade de elementos\n",
    "soma dos elementos / quantidade de elementos"
   ]
  },
  {
   "cell_type": "code",
   "execution_count": null,
   "metadata": {},
   "outputs": [],
   "source": [
    "\n",
    "x = int(input(\"Digite a nota do 1º bimestre: \"))\n",
    "y = int(input(\"Digite a nota do 2º bimestre: \"))\n",
    "z = int(input(\"Digite a nota do 3º bimestre: \"))\n",
    "w = int(input(\"Digite a nota do 4º bimestre\"))\n",
    "\n",
    "media = (x+y+z+w)/4\n",
    "print(\"A média do aluno é: \", media)"
   ]
  },
  {
   "cell_type": "markdown",
   "metadata": {},
   "source": [
    "Aqui o usuário apenas pode inserir uma varíavel do tipo int (número inteiro) o que não é funcional para notas, eis que elas podem conter casas decimais, por isso o mais adequado é o tipo float"
   ]
  },
  {
   "cell_type": "code",
   "execution_count": null,
   "metadata": {},
   "outputs": [],
   "source": [
    "x = float(input(\"Digite a nota do 1º bimestre: \"))\n",
    "y = float(input(\"Digite a nota do 2º bimestre: \"))\n",
    "z = float(input(\"Digite a nota do 3º bimestre: \"))\n",
    "w = float(input(\"Digite a nota do 4º bimestre\"))\n",
    "\n",
    "media = (x+y+z+w)/4\n",
    "print(\"A média do aluno é: \", media)"
   ]
  },
  {
   "cell_type": "markdown",
   "metadata": {},
   "source": [
    "Média com função e com iteração (range, for, statistics, list)"
   ]
  },
  {
   "cell_type": "code",
   "execution_count": null,
   "metadata": {},
   "outputs": [],
   "source": [
    "import statistics\n",
    "notas = []\n",
    "for i in range(4):\n",
    "    n = float(input(\"Digite a nota: \"))\n",
    "    notas.append(n)\n",
    "media = statistics.mean(notas)\n",
    "print(\"A média do aluno é: \", media)"
   ]
  },
  {
   "cell_type": "markdown",
   "metadata": {},
   "source": [
    "<font color = yellow> Lembrando </font> que o padrão utilizado para separação de casas decimais é o ponto (.) e não a vírgula (,), pois este é o padrão dos Estados Unidos. \n",
    "Mudando código para o padrão Brasil e não permitir entradas maiores que 10 "
   ]
  },
  {
   "cell_type": "code",
   "execution_count": null,
   "metadata": {},
   "outputs": [],
   "source": [
    "# usando replace\n",
    "import statistics\n",
    "notas = []\n",
    "for i in range(4):\n",
    "    # strip - remover os espaços\n",
    "    # replace - caso o usuário insira a nota do padrão brasil\n",
    "    n = input(\"Digite a nota: \").strip().replace(',', '.')\n",
    "    # para usar a função mean é preciso converter a string\n",
    "    n = float(n)\n",
    "    notas.append(n)\n",
    "media = statistics.mean(notas)\n",
    "# convertendo o valor final para o padrão Brasil\n",
    "m = str(media).replace('.', ',')\n",
    "print(\"A média do aluno é: \", m)"
   ]
  },
  {
   "cell_type": "markdown",
   "metadata": {},
   "source": [
    "Existe a formatação de números usando locale também, mas isso fica para um outro momento"
   ]
  },
  {
   "cell_type": "markdown",
   "metadata": {},
   "source": [
    "#### <font color = green> **Crie um algoritmo que leia um número e mostre seu dobro, triplo e raiz quadrada**</font>\n",
    "Lembrando que a raiz quadrada pode ser representada pela elavação do número à potência de 1/2"
   ]
  },
  {
   "cell_type": "code",
   "execution_count": null,
   "metadata": {},
   "outputs": [],
   "source": [
    "n = int(input('insira um numero: '))\n",
    "print(f'o numero digitado e {n}, o seu dobro e {n*2}, seu triplo e {n*3}, sua raiz quadrada {n**(1/2)} ')"
   ]
  },
  {
   "cell_type": "markdown",
   "metadata": {},
   "source": [
    "A raiz quadrada também pode ser obtida usando o import math e usando o math.sqrt()"
   ]
  },
  {
   "cell_type": "code",
   "execution_count": null,
   "metadata": {},
   "outputs": [],
   "source": [
    "import math\n",
    "n = int(input('insira um numero: '))\n",
    "print(f'o numero digitado e {n}, o seu dobro e {n*2}, seu triplo e {n*3}, sua raiz quadrada {math.sqrt(n):.2f} ')"
   ]
  },
  {
   "cell_type": "markdown",
   "metadata": {},
   "source": [
    "Obs. limitação de decimais logo após o número a ser formatado auxilia na melhor visualização do usuário.\n",
    "\n",
    ":.2f = tudo aquilo que vem antes e 2 casas decimais depois do ponto"
   ]
  },
  {
   "cell_type": "markdown",
   "metadata": {},
   "source": [
    "#### <font color = green> **Faça um programa que leia o cateto oposto e do cateto adjacente de um trangulo retangulo, calcule e mostre o compromento da hipotenusa** </font>\n",
    "Lembrando que o cálculo da hipotenusa é feito através da raiz quadrada da soma dos catetos ao quadrado.\n",
    "\n",
    "É necessário a colocação de parênteses para assegurar a ordem de precedência do cálculo, caso contrário o resultado sairá errado"
   ]
  },
  {
   "cell_type": "code",
   "execution_count": null,
   "metadata": {},
   "outputs": [],
   "source": [
    "c1 = float(input('Digite o Cateto Oposto: '))\n",
    "c2 = float(input('Digite o cateto adjacente: '))\n",
    "h = ((c1**2) + (c2**2))**(1/2)\n",
    "\n",
    "print(f' O cateto oposto é {c1}, o cateto adjacente é {c2}, a hipotenusa é {h}')"
   ]
  },
  {
   "cell_type": "code",
   "execution_count": null,
   "metadata": {},
   "outputs": [],
   "source": [
    "# Importando math:\n",
    "import math\n",
    "c1 = float(input('Digite o Cateto Oposto: '))\n",
    "c2 = float(input('Digite o cateto adjacente: '))\n",
    "h = math.hypot(c1, c2)\n",
    "\n",
    "print(f' O cateto oposto é {c1}, o cateto adjacente é {c2}, a hipotenusa é {h:.2f}')"
   ]
  },
  {
   "cell_type": "markdown",
   "metadata": {},
   "source": [
    "####  <font color = green> **Faça um programa que leia um angulo qualquer e mostre na tela o seno cosseno e tangente desse angulo**</font>\n",
    "Lembrando que seno = cateto oposto / hipotenusa; cosseno = cateto adjacente / hipotenusa; tangente = cateto oposto / cateto adjacente"
   ]
  },
  {
   "cell_type": "code",
   "execution_count": null,
   "metadata": {},
   "outputs": [],
   "source": [
    "c1 = float(input('Digite o Cateto Oposto: '))\n",
    "c2 = float(input('Digite o cateto adjacente: '))\n",
    "h = ((c1**2) + (c2**2))**(1/2)\n",
    "s = c1/h\n",
    "co = c2/h\n",
    "t = c1/c2\n",
    "\n",
    "print(f' O cateto oposto é {c1}, o cateto adjacente é {c2}, a hipotenusa é {h}')\n",
    "print(f'O seno é {s:.2f}, o cosseno é {co:.2f} e a tangente é {t:.2f}')"
   ]
  },
  {
   "cell_type": "code",
   "execution_count": null,
   "metadata": {},
   "outputs": [],
   "source": [
    "import math\n",
    "an = float(input('Digite o número que você deseja'))\n",
    "seno = math.sin(math.radians(an))\n",
    "cos = math.cos(math.radians(an))\n",
    "t = math.tan(math.radians(an))\n",
    "print(f'seno {seno}, cosseno {cos} tangente {t}')"
   ]
  },
  {
   "cell_type": "markdown",
   "metadata": {},
   "source": [
    "#### <font color = green> **Crie um programa que leia um número real qualquer pelo teclado e mostre na tela a sua porção inteira**</font>"
   ]
  },
  {
   "cell_type": "code",
   "execution_count": null,
   "metadata": {},
   "outputs": [],
   "source": [
    "n = float(input('Insira um número: '))\n",
    "print (f'O valor digitado foi {n} e a sua porção inteira é {math.trunc(n)}')"
   ]
  },
  {
   "cell_type": "code",
   "execution_count": null,
   "metadata": {},
   "outputs": [],
   "source": [
    "from math import trunc\n",
    "n = float(input('Insira um número: '))\n",
    "print (f'O valor digitado foi {n} e a sua porção inteira é {trunc(n)}')"
   ]
  },
  {
   "cell_type": "code",
   "execution_count": null,
   "metadata": {},
   "outputs": [],
   "source": [
    "# sem importar módulos:\n",
    "n = float(input('Insira um número: '))\n",
    "print (f'O valor digitado foi {n} e a sua porção inteira é {int(n)}')"
   ]
  },
  {
   "cell_type": "markdown",
   "metadata": {},
   "source": [
    "#### <font color = green> **Utilizando range**</font>"
   ]
  },
  {
   "cell_type": "code",
   "execution_count": 1,
   "metadata": {},
   "outputs": [
    {
     "name": "stdout",
     "output_type": "stream",
     "text": [
      "5\n",
      "15\n",
      "25\n",
      "35\n",
      "45\n",
      "55\n",
      "65\n",
      "75\n",
      "85\n",
      "95\n"
     ]
    }
   ],
   "source": [
    "for x in range (5,101,10):\n",
    "    print(x)"
   ]
  },
  {
   "cell_type": "markdown",
   "metadata": {},
   "source": [
    "#### <font color = green> **um professor quer sortear um dos seus 4 alunos para apagar o quadro faça um programa que ajude ele lendo o nome deles e escrevendo o nome do escolhido**</font>"
   ]
  },
  {
   "cell_type": "code",
   "execution_count": null,
   "metadata": {},
   "outputs": [],
   "source": [
    "#sorteio\n",
    "\n",
    "import random\n",
    "n1 = str(input('Primeiro Aluno: '))\n",
    "n2 = str(input('Segundo Aluno: '))\n",
    "n3 = str(input('Terceito Aluno: '))\n",
    "n4 = str(input('Quarto Aluno: '))\n",
    "lista = [n1, n2, n3, n4]\n",
    "escolhido = random.choice(lista)\n",
    "print(f'{escolhido}')\n",
    "\n",
    "print(f'{list}')"
   ]
  },
  {
   "cell_type": "code",
   "execution_count": null,
   "metadata": {},
   "outputs": [],
   "source": [
    "# embaralhando a ordem\n",
    "import random\n",
    "n1 = str(input('Primeiro Aluno: '))\n",
    "n2 = str(input('Segundo Aluno: '))\n",
    "n3 = str(input('Terceito Aluno: '))\n",
    "n4 = str(input('Quarto Aluno: '))\n",
    "lista = [n1, n2, n3, n4]\n",
    "escolhido = random.shuffle(lista)\n",
    "print(lista)"
   ]
  },
  {
   "cell_type": "markdown",
   "metadata": {},
   "source": [
    "#### <font color = green> **Jogo da Advinhação** </font>"
   ]
  },
  {
   "cell_type": "code",
   "execution_count": null,
   "metadata": {},
   "outputs": [],
   "source": [
    "# Randint - para gerar um número aleatório inteiro\n",
    "\n",
    "from random import randint\n",
    "print('Olá! O computador escolherá um número de 0 a 5')\n",
    "n = randint(0,5)\n",
    "\n",
    "sorte = int(input('Pronto! Agora adivinhe o número escolhido: '))\n",
    "if sorte == n:\n",
    "    print(f'O número escolhido pelo computador foi {n}. Você acertou!')\n",
    "else:\n",
    "    print(f'Errou! o número escolhido pelo computador foi {n}')"
   ]
  },
  {
   "cell_type": "code",
   "execution_count": null,
   "metadata": {},
   "outputs": [],
   "source": [
    "# Gerando números aletórios com mais casas\n",
    "import math\n",
    "import random\n",
    "n = math.ceil(100000*random.random())\n",
    "print(n)"
   ]
  },
  {
   "cell_type": "markdown",
   "metadata": {},
   "source": [
    "#### <font color = green> **Faça um programa que leia uma letra e diga se é vogal ou consoante** </font>"
   ]
  },
  {
   "cell_type": "code",
   "execution_count": null,
   "metadata": {},
   "outputs": [],
   "source": [
    "print(\"Vogal ou Consoante?\")\n",
    "vogal_consoante = input(\"Digite uma letra: \").upper()\n",
    "\n",
    "if (vogal_consoante.isalpha()):\n",
    "    if (vogal_consoante == 'a' or vogal_consoante == 'e' or vogal_consoante == 'i' or vogal_consoante == 'o' or vogal_consoante == 'u'):\n",
    "        print(\"Vogal\")\n",
    "    else:\n",
    "        print(\"Consoante\")\n",
    "elif (vogal_consoante.isnumeric()):\n",
    "    print(\"Você digitiu um numero\")"
   ]
  },
  {
   "cell_type": "markdown",
   "metadata": {},
   "source": [
    "obs .isnumeric() verifica se o caractere da string é um número ou não.\n",
    "\n",
    ".isalpha verifica se o caractere é uma letra do alfabeto\n",
    "\n",
    "O upper foi utilizado para o programa transformar as letras digitadas em maiúsculas e evitar erros, caso o usuário insira letras minúsculas."
   ]
  },
  {
   "cell_type": "markdown",
   "metadata": {},
   "source": [
    "### <font color = green> **Faça um Programa que leia três números e mostre o maior e o menor deles** </font>"
   ]
  },
  {
   "cell_type": "code",
   "execution_count": null,
   "metadata": {},
   "outputs": [],
   "source": [
    "#Prevendo vários tipos de resultados:\n",
    "\n",
    "x = int(input(\"Digite um número: \"))\n",
    "y = int(input(\"Digite um número: \"))\n",
    "z = int(input(\"Digite um número: \"))\n",
    "\n",
    "if x>y and x>z and y>z:\n",
    "    print(\"O número maior é: \", x),\n",
    "    print (\"O número menor é: \", z)\n",
    "elif x>y and x>z and y<z:\n",
    "    print(\"O número maior é: \", x),\n",
    "    print (\"O número menor é: \", y)\n",
    "elif y>x and y>z and x>z:\n",
    "    print(\"O número maior é: \", y),\n",
    "    print (\"O número menor é: \", z)\n",
    "elif y>x and y>z and z>x:\n",
    "    print(\"O número maior é: \", y),\n",
    "    print (\"O número menor é: \", x)\n",
    "elif z>x and z>y and x>y:\n",
    "    print(\"O número maior é: \", z),\n",
    "    print (\"O número menor é: \", y)\n",
    "elif z>x and z>y and y>x:\n",
    "    print(\"O número maior é: \", z),\n",
    "    print (\"O número menor é: \", x)"
   ]
  },
  {
   "cell_type": "markdown",
   "metadata": {},
   "source": [
    "Simplificando a versão anterior utilizando os números inseridos como uma lista e retornando o número max e min:"
   ]
  },
  {
   "cell_type": "code",
   "execution_count": null,
   "metadata": {},
   "outputs": [],
   "source": [
    "n1 = int(input('Informe o primeiro numero: '))\n",
    "n2 = int(input('Informe o segundo numero: '))\n",
    "n3 = int(input('Informe o terceiro numero: '))\n",
    "\n",
    "lista = [n1, n2, n3]\n",
    "\n",
    "print(f'O maior numero digitado foi: {max(lista)} ')\n",
    "print(f'O menor numero digitado foi: {min(lista)} ')"
   ]
  },
  {
   "cell_type": "markdown",
   "metadata": {},
   "source": [
    "#### <font color = green> **Faça um programa que leia um número e retorne a tabuada deste número**</font>"
   ]
  },
  {
   "cell_type": "code",
   "execution_count": null,
   "metadata": {},
   "outputs": [],
   "source": [
    "n = int(input('insira um número: '))\n",
    "m = 0\n",
    "\n",
    "while m<=10:\n",
    "    print(f'{n} x {m} = {n*m}')\n",
    "    m+=1"
   ]
  }
 ],
 "metadata": {
  "kernelspec": {
   "display_name": "Python 3",
   "language": "python",
   "name": "python3"
  },
  "language_info": {
   "codemirror_mode": {
    "name": "ipython",
    "version": 3
   },
   "file_extension": ".py",
   "mimetype": "text/x-python",
   "name": "python",
   "nbconvert_exporter": "python",
   "pygments_lexer": "ipython3",
   "version": "3.11.6"
  }
 },
 "nbformat": 4,
 "nbformat_minor": 2
}
