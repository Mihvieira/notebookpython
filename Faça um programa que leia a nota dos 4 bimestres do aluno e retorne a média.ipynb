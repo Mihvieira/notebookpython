{
 "cells": [
  {
   "cell_type": "markdown",
   "metadata": {},
   "source": [
    "#### <font color = green> **Faça um programa que leia a nota dos 4 bimestres do aluno e retorne a média** </font>\n",
    "A média é obtida através da soma de todos os elementos dividido pela quantidade de elementos\n",
    "soma dos elementos / quantidade de elementos"
   ]
  },
  {
   "cell_type": "code",
   "execution_count": null,
   "metadata": {},
   "outputs": [],
   "source": [
    "\n",
    "x = int(input(\"Digite a nota do 1º bimestre: \"))\n",
    "y = int(input(\"Digite a nota do 2º bimestre: \"))\n",
    "z = int(input(\"Digite a nota do 3º bimestre: \"))\n",
    "w = int(input(\"Digite a nota do 4º bimestre\"))\n",
    "\n",
    "media = (x+y+z+w)/4\n",
    "print(\"A média do aluno é: \", media)"
   ]
  },
  {
   "cell_type": "markdown",
   "metadata": {},
   "source": [
    "Aqui o usuário apenas pode inserir uma varíavel do tipo int (número inteiro) o que não é funcional para notas, eis que elas podem conter casas decimais, por isso o mais adequado é o tipo float"
   ]
  },
  {
   "cell_type": "code",
   "execution_count": null,
   "metadata": {},
   "outputs": [],
   "source": [
    "x = float(input(\"Digite a nota do 1º bimestre: \"))\n",
    "y = float(input(\"Digite a nota do 2º bimestre: \"))\n",
    "z = float(input(\"Digite a nota do 3º bimestre: \"))\n",
    "w = float(input(\"Digite a nota do 4º bimestre\"))\n",
    "\n",
    "media = (x+y+z+w)/4\n",
    "print(\"A média do aluno é: \", media)"
   ]
  },
  {
   "cell_type": "markdown",
   "metadata": {},
   "source": [
    "Média com função e com iteração (range, for, statistics, list)"
   ]
  },
  {
   "cell_type": "code",
   "execution_count": null,
   "metadata": {},
   "outputs": [],
   "source": [
    "import statistics\n",
    "notas = []\n",
    "for i in range(4):\n",
    "    n = float(input(\"Digite a nota: \"))\n",
    "    notas.append(n)\n",
    "media = statistics.mean(notas)\n",
    "print(\"A média do aluno é: \", media)"
   ]
  },
  {
   "cell_type": "markdown",
   "metadata": {},
   "source": [
    "<font color = yellow> Lembrando </font> que o padrão utilizado para separação de casas decimais é o ponto (.) e não a vírgula (,), pois este é o padrão dos Estados Unidos. \n",
    "Mudando código para o padrão Brasil e não permitir entradas maiores que 10 "
   ]
  },
  {
   "cell_type": "code",
   "execution_count": null,
   "metadata": {},
   "outputs": [],
   "source": [
    "# usando replace\n",
    "import statistics\n",
    "notas = []\n",
    "for i in range(4):\n",
    "    # strip - remover os espaços\n",
    "    # replace - caso o usuário insira a nota do padrão brasil\n",
    "    n = input(\"Digite a nota: \").strip().replace(',', '.')\n",
    "    # para usar a função mean é preciso converter a string\n",
    "    n = float(n)\n",
    "    notas.append(n)\n",
    "media = statistics.mean(notas)\n",
    "# convertendo o valor final para o padrão Brasil\n",
    "m = str(media).replace('.', ',')\n",
    "print(\"A média do aluno é: \", m)"
   ]
  },
  {
   "cell_type": "markdown",
   "metadata": {},
   "source": [
    "Existe a formatação de números usando locale também, mas isso fica para um outro momento"
   ]
  }
 ],
 "metadata": {
  "kernelspec": {
   "display_name": "Python 3",
   "language": "python",
   "name": "python3"
  },
  "language_info": {
   "codemirror_mode": {
    "name": "ipython",
    "version": 3
   },
   "file_extension": ".py",
   "mimetype": "text/x-python",
   "name": "python",
   "nbconvert_exporter": "python",
   "pygments_lexer": "ipython3",
   "version": "3.11.6"
  }
 },
 "nbformat": 4,
 "nbformat_minor": 2
}
